{
 "cells": [
  {
   "cell_type": "code",
   "execution_count": 3,
   "metadata": {},
   "outputs": [],
   "source": [
    "import json\n",
    "import geocoder\n",
    "import os\n",
    "import pickle\n",
    "from tqdm import tqdm\n",
    "BING_API_KEY = os.environ['BING_API_KEY']\n",
    "CACHE_FILE = 'cache.pkl'\n",
    "INPUT_FILE = 'zomato_toronto.json'\n",
    "OUTPUT_FILE = 'restaurants.jsonl'\n",
    "\n",
    "if os.path.isfile(CACHE_FILE):\n",
    "    with open(CACHE_FILE, 'rb') as f:\n",
    "        cache = pickle.load(f)\n",
    "else:\n",
    "    cache = {}\n",
    "    \n",
    "def geocode(address):\n",
    "    if address not in cache:\n",
    "        cache[address] = geocoder.bing(data['address'], key=BING_API_KEY).latlng\n",
    "    return cache[address]"
   ]
  },
  {
   "cell_type": "code",
   "execution_count": 4,
   "metadata": {},
   "outputs": [
    {
     "name": "stderr",
     "output_type": "stream",
     "text": [
      "10607it [00:00, 17932.61it/s]                          \n"
     ]
    }
   ],
   "source": [
    "with open(OUTPUT_FILE, 'w') as ofile:\n",
    "    with open(INPUT_FILE) as json_file:\n",
    "        for line in tqdm(json_file, total=10000):\n",
    "            data = json.loads(line)\n",
    "            data['zomato_url'] = data['zomato_url'].strip()\n",
    "            if data['geo_location'] is None or 'undefined' in data['geo_location']:\n",
    "                data['geo_location'] = geocode(data['address'])\n",
    "            ofile.write(json.dumps(data) + '\\n')\n",
    "            \n",
    "with open(CACHE_FILE, 'wb') as f:\n",
    "    pickle.dump(cache, f)"
   ]
  }
 ],
 "metadata": {
  "kernelspec": {
   "display_name": "Python 3",
   "language": "python",
   "name": "python3"
  },
  "language_info": {
   "codemirror_mode": {
    "name": "ipython",
    "version": 3
   },
   "file_extension": ".py",
   "mimetype": "text/x-python",
   "name": "python",
   "nbconvert_exporter": "python",
   "pygments_lexer": "ipython3",
   "version": "3.6.6"
  }
 },
 "nbformat": 4,
 "nbformat_minor": 2
}
