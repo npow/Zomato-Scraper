{
 "cells": [
  {
   "cell_type": "code",
   "execution_count": 19,
   "metadata": {},
   "outputs": [
    {
     "name": "stderr",
     "output_type": "stream",
     "text": [
      "10607it [00:51, 206.13it/s]                           \n"
     ]
    }
   ],
   "source": [
    "import json\n",
    "import geocoder\n",
    "import os\n",
    "from tqdm import tqdm\n",
    "BING_API_KEY = os.environ['BING_API_KEY']\n",
    "with open('restaurants.jsonl', 'w') as ofile:\n",
    "    with open('zomato_toronto.json') as json_file:\n",
    "        with open('toronto_restaurant_details.txt') as url_file:\n",
    "            for url, line in tqdm(zip(url_file, json_file), total=10000):\n",
    "                data = json.loads(line)\n",
    "                data['zomato_url'] = url.strip()\n",
    "                if data['geo_location'] is None or 'undefined' in data['geo_location']:\n",
    "                    data['geo_location'] = geocoder.bing(data['address'], key=BING_API_KEY).latlng\n",
    "                ofile.write(json.dumps(data) + '\\n')"
   ]
  }
 ],
 "metadata": {
  "kernelspec": {
   "display_name": "Python 3",
   "language": "python",
   "name": "python3"
  },
  "language_info": {
   "codemirror_mode": {
    "name": "ipython",
    "version": 3
   },
   "file_extension": ".py",
   "mimetype": "text/x-python",
   "name": "python",
   "nbconvert_exporter": "python",
   "pygments_lexer": "ipython3",
   "version": "3.6.6"
  }
 },
 "nbformat": 4,
 "nbformat_minor": 2
}
